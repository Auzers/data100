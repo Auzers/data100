{
 "cells": [
  {
   "cell_type": "code",
   "execution_count": null,
   "metadata": {
    "deletable": false,
    "editable": false
   },
   "outputs": [],
   "source": [
    "# Initialize Otter\n",
    "import otter\n",
    "grader = otter.Notebook(\"lab02B.ipynb\")"
   ]
  },
  {
   "cell_type": "markdown",
   "metadata": {
    "nbgrader": {
     "grade": false,
     "grade_id": "title-cell",
     "locked": true,
     "schema_version": 2,
     "solution": false
    }
   },
   "source": [
    "## Lab 02B: Data Cleaning and EDA"
   ]
  },
  {
   "cell_type": "markdown",
   "metadata": {},
   "source": [
    "To receive credit for a lab, answer all questions correctly and submit before the deadline.\n",
    "\n",
    "You must submit this assignment to Gradescope by the on-time deadline, **Tuesday, February 6th, 11:59 PM**. Please read the syllabus for the grace period policy. No late submissions beyond the grace period will be accepted. While course staff is happy to help you if you encounter difficulties with submission, we may not be able to respond to late-night requests for assistance (TAs need to sleep, after all!). **We strongly encourage you to plan to submit your work to Gradescope several hours before the stated deadline.** This way, you will have ample time to contact staff for submission support. "
   ]
  },
  {
   "cell_type": "markdown",
   "metadata": {},
   "source": [
    "### Lab Walk-Through\n",
    "In addition to the lab notebook, we have also released a prerecorded walk-through video of the lab. We encourage you to reference this video as you work through the lab. Run the cell below to display the videos.\n",
    "<br>\n",
    "**Note:** This video is recorded in Fall 2023. There may be slight inconsistencies between the version you are viewing vesus the version used in the recording, but content is identical."
   ]
  },
  {
   "cell_type": "code",
   "execution_count": null,
   "metadata": {},
   "outputs": [],
   "source": [
    "from IPython.display import YouTubeVideo\n",
    "YouTubeVideo(\"hwRYs5ZRgW4\", list = 'PLQCcNQgUcDfqSg049DVFZCQbupMY5Bn5Z', listType = 'playlist')"
   ]
  },
  {
   "cell_type": "markdown",
   "metadata": {},
   "source": [
    "### Collaboration Policy\n",
    "\n",
    "Data science is a collaborative activity. While you may talk with others about the labs, we ask that you **write your solutions individually**. If you do discuss the assignments with others, please **include their names** below. (That's a good way to learn your classmates' names.)"
   ]
  },
  {
   "cell_type": "markdown",
   "metadata": {},
   "source": [
    "**Collaborators**: *list collaborators here*"
   ]
  },
  {
   "cell_type": "markdown",
   "metadata": {},
   "source": [
    "---\n",
    "### Debugging Guide\n",
    "If you run into any technical issues, we highly recommend checking out the [Data 100 Debugging Guide](https://ds100.org/debugging-guide/). In this guide, you can find general questions about Jupyter notebooks / Datahub, Gradescope, and common pandas errors."
   ]
  },
  {
   "cell_type": "markdown",
   "metadata": {
    "nbgrader": {
     "grade": false,
     "grade_id": "outline-cell",
     "locked": true,
     "schema_version": 2,
     "solution": false
    }
   },
   "source": [
    "---\n",
    "[`pandas`](https://pandas.pydata.org/) is one of the most widely used `Python` libraries in data science. In this lab, you will review commonly used data-wrangling operations/tools in `pandas`. We continue the content from the previous lab and aim to give you familiarity with:\n",
    "\n",
    "* Aggregating the data (using `.groupby`),\n",
    "* Filtering the data (using boolean arrays and `groupby.filter`),\n",
    "* Pivoting (using `.pivot_table`).\n",
    "\n",
    "In this lab, you are going to use several `pandas` methods. Reminder from the lecture that you may press `shift+tab` on method parameters to see the documentation for that method. For example, if you were using the `drop` method in `pandas`, you could press `shift+tab` to see what `drop` is expecting.\n",
    "\n",
    "`pandas` is very similar to the `datascience` library that you saw in Data 8. This [conversion notebook](https://data100.datahub.berkeley.edu/hub/user-redirect/git-pull?repo=https%3A%2F%2Fgithub.com%2FDS-100%2Fsu23-materials&branch=main&urlpath=lab%2Ftree%2Fsu23-materials%2Flec%2Flec02%2Fdata8_translation_examples.ipynb) may serve as a useful guide!\n",
    "\n",
    "This lab expects that you have watched all three `pandas` lectures. If you have not, this lab will probably take a very long time."
   ]
  },
  {
   "cell_type": "code",
   "execution_count": null,
   "metadata": {
    "nbgrader": {
     "grade": false,
     "grade_id": "imports",
     "locked": true,
     "schema_version": 2,
     "solution": false
    },
    "scrolled": true
   },
   "outputs": [],
   "source": [
    "import numpy as np\n",
    "import pandas as pd\n",
    "%matplotlib inline"
   ]
  },
  {
   "cell_type": "markdown",
   "metadata": {},
   "source": [
    "<hr style=\"border: 5px solid #003262;\" />\n",
    "<hr style=\"border: 1px solid #fdb515;\" />"
   ]
  },
  {
   "cell_type": "markdown",
   "metadata": {
    "nbgrader": {
     "grade": false,
     "grade_id": "cell-189595bbb3fcaa8e",
     "locked": true,
     "schema_version": 2,
     "solution": false
    }
   },
   "source": [
    "### **REVIEW:** `Groupby` and `Groupby` Shorthand\n",
    "\n",
    "Let's now turn to use `groupby` from lectures 3 and 4."
   ]
  },
  {
   "cell_type": "markdown",
   "metadata": {},
   "source": [
    "### Elections"
   ]
  },
  {
   "cell_type": "markdown",
   "metadata": {},
   "source": [
    "Let's start by reading in the election dataset from the `pandas` lectures."
   ]
  },
  {
   "cell_type": "code",
   "execution_count": null,
   "metadata": {
    "ExecuteTime": {
     "end_time": "2020-09-16T20:55:15.205576Z",
     "start_time": "2020-09-16T20:55:15.194080Z"
    },
    "scrolled": true,
    "tags": []
   },
   "outputs": [],
   "source": [
    "# Run this cell to load data from CSV file; no further action is needed.\n",
    "elections = pd.read_csv(\"data/elections.csv\")\n",
    "elections.head(5)"
   ]
  },
  {
   "cell_type": "markdown",
   "metadata": {},
   "source": [
    "As we saw before, we can `groupby` a specific column, e.g., `\"Party\"` and can print out the resulting sub-DataFrames. The output below can help you get an understanding of what `groupby` is actually doing.\n",
    "\n",
    "An example is given below for elections since 1980."
   ]
  },
  {
   "cell_type": "code",
   "execution_count": null,
   "metadata": {
    "ExecuteTime": {
     "end_time": "2020-09-16T20:55:16.136582Z",
     "start_time": "2020-09-16T20:55:16.020654Z"
    },
    "tags": []
   },
   "outputs": [],
   "source": [
    "# Run this cell to print sub-DataFrames of a groupby object; no further action is needed.\n",
    "for n, g in elections[elections[\"Year\"] >= 1980].groupby(\"Party\"):\n",
    "    print(f\"Name: {n}\") # By the way, this is an \"f string\", a relatively new and great feature of Python\n",
    "    display(g)\n",
    "    # n 是 base,  g 是组别"
   ]
  },
  {
   "cell_type": "markdown",
   "metadata": {},
   "source": [
    "Recall that once we've formed groups, we can aggregate each sub-DataFrame (a.k.a. group) into a single row using an aggregation function. For example, if we use `.agg('mean')` on the groups above, we get back a single `DataFrame` where each group has been replaced by a single row. In each column for that aggregate row, the value that appears is the average of all values in that group.\n",
    "\n",
    "For columns that are non-numeric, e.g., `\"Result\"`, the `pandas` version we're using (version 2.0.2) will error because we cannot compute the mean of the `Result` column. To remedy this, we add a `numeric_only=True` argument to our function calls so that we only calculate the `mean` for columns that contain numeric values. Alternatively, we can manually select only the numerical columns before calling the `agg` function so the aggregation is only applied to numerical columns."
   ]
  },
  {
   "cell_type": "code",
   "execution_count": null,
   "metadata": {},
   "outputs": [],
   "source": [
    "elections_after_1980 = elections[elections[\"Year\"] >= 1980]\n",
    "\n",
    "elections_after_1980.groupby(\"Party\").agg('mean', numeric_only=True)\n",
    "\n",
    "# alternatively, we can manually select only the numerical columns before calling `agg`\n",
    "# elections_after_1980.groupby(\"Party\")[['Year', 'Popular vote', '%']].agg('mean')"
   ]
  },
  {
   "cell_type": "markdown",
   "metadata": {},
   "source": [
    "Equivalently we can use one of the shorthand aggregation functions, e.g. `.mean()`: "
   ]
  },
  {
   "cell_type": "code",
   "execution_count": null,
   "metadata": {
    "scrolled": true
   },
   "outputs": [],
   "source": [
    "elections_after_1980.groupby(\"Party\").mean(numeric_only=True)"
   ]
  },
  {
   "cell_type": "markdown",
   "metadata": {},
   "source": [
    "Note that the index of the `DataFrame` returned by an `groupby.agg` call is no longer a set of numeric indices from $0$ to $N-1$. Instead, we see that the index for the example above is now the `Party`. If we want to restore our `DataFrame` so that `Party` is a column rather than the index, we can use `reset_index`."
   ]
  },
  {
   "cell_type": "code",
   "execution_count": null,
   "metadata": {},
   "outputs": [],
   "source": [
    "elections_after_1980.groupby(\"Party\").mean(numeric_only=True).reset_index()"
   ]
  },
  {
   "cell_type": "markdown",
   "metadata": {},
   "source": [
    "**IMPORTANT NOTE:** Notice that the code above consists of chained method calls. This sort of code is very common in `pandas` programming and in data science in general. Such chained method calls can sometimes go many layers deep, so you might consider adding newlines between lines of code for clarity. For example, we could instead write the code above as:"
   ]
  },
  {
   "cell_type": "code",
   "execution_count": null,
   "metadata": {},
   "outputs": [],
   "source": [
    "# pandas method chaining\n",
    "(\n",
    "elections.query(\"Year >= 1980\").groupby(\"Party\") \n",
    "                               .mean(numeric_only=True)  ## Computes the mean values by party\n",
    "                               .reset_index()            ## Resets to a numerical index\n",
    ")"
   ]
  },
  {
   "cell_type": "markdown",
   "metadata": {},
   "source": [
    "Note that we have surrounded the entire call by a big set of parentheses so that `Python` doesn't complain about the indentation. An alternative is to use the \\ symbol to indicate to `Python` that your code continues on to the next line!"
   ]
  },
  {
   "cell_type": "code",
   "execution_count": null,
   "metadata": {
    "scrolled": true
   },
   "outputs": [],
   "source": [
    "# pandas method chaining (alternative)\n",
    "elections[elections[\"Year\"] >= 1980].groupby(\"Party\") \\\n",
    "                               .mean(numeric_only=True) \\\n",
    "                               .reset_index()     "
   ]
  },
  {
   "cell_type": "markdown",
   "metadata": {},
   "source": [
    "**IMPORTANT NOTE:** You should NEVER solve problems like the one above using loops or list comprehensions. This is slow and also misses the entire point of this part of Data 100. \n",
    "\n",
    "Before we continue, we'll print out the election dataset again for your convenience. "
   ]
  },
  {
   "cell_type": "code",
   "execution_count": null,
   "metadata": {},
   "outputs": [],
   "source": [
    "elections.head(5)"
   ]
  },
  {
   "cell_type": "markdown",
   "metadata": {
    "deletable": false,
    "editable": false
   },
   "source": [
    "<br>\n",
    "\n",
    "---\n",
    "\n",
    "### Question 1a\n",
    "Using `groupby.agg` or one of the shorthand methods (`groupby.min`, `groupby.first`, etc.), create a `Series` object `best_result_percentage_only` that returns a `Series` showing the entire best result for every party, sorted in decreasing order. Your `Series` should include only parties that have earned at least 10% of the vote in some election. Your result should look like this:\n",
    "\n",
    "<code>\n",
    "Party\n",
    "Democratic               61.344703\n",
    "Republican               60.907806\n",
    "Democratic-Republican    57.210122\n",
    "National Union           54.951512\n",
    "Whig                     53.051213\n",
    "Liberal Republican       44.071406\n",
    "National Republican      43.796073\n",
    "Northern Democratic      29.522311\n",
    "Progressive              27.457433\n",
    "American                 21.554001\n",
    "Independent              18.956298\n",
    "Southern Democratic      18.138998\n",
    "American Independent     13.571218\n",
    "Constitutional Union     12.639283\n",
    "Free Soil                10.138474\n",
    "Name: %, dtype: float64\n",
    "</code>\n",
    "<br/>\n",
    "\n",
    "A list of named `groupby.agg` shorthand methods are [here](https://pandas.pydata.org/pandas-docs/stable/user_guide/groupby.html#aggregation) (you'll have to scroll down about one page).\n"
   ]
  },
  {
   "cell_type": "code",
   "execution_count": null,
   "metadata": {
    "ExecuteTime": {
     "end_time": "2020-09-16T20:55:17.183136Z",
     "start_time": "2020-09-16T20:55:17.172696Z"
    },
    "scrolled": true,
    "tags": []
   },
   "outputs": [],
   "source": [
    "best_result_percentage_only = (elections[elections[\"%\"] >= 10]\n",
    "                               .groupby(\"Party\")\n",
    "                               .max()\n",
    "                               .sort_values(by=\"%\",ascending=False)[\"%\"])\n",
    "best_result_percentage_only"
   ]
  },
  {
   "cell_type": "code",
   "execution_count": null,
   "metadata": {
    "deletable": false,
    "editable": false
   },
   "outputs": [],
   "source": [
    "grader.check(\"q1a\")"
   ]
  },
  {
   "cell_type": "markdown",
   "metadata": {
    "deletable": false,
    "editable": false
   },
   "source": [
    "<br>\n",
    "\n",
    "---\n",
    "\n",
    "### Question 1b  \n",
    "Repeat Question 1a. However, this time, your result should be a `DataFrame` showing all available information (all columns) rather than only the percentage as a `Series`.\n",
    "\n",
    "This question is trickier than Question 1a. Make sure to check the `pandas` lecture slides if you're stuck! It's very easy to make a subtle mistake that shows Woodrow Wilson and Howard Taft both winning the 2020 election.\n",
    "\n",
    "For example, the first 3 rows of your table should be:\n",
    "\n",
    "|Party | Year | Candidate      | Popular Vote | Result | %         |\n",
    "|------|------|----------------|--------------|--------|-----------|\n",
    "|**Democratic**  | 1964 | Lyndon Johnson | 43127041      | win   | 61.344703 |\n",
    "|**Republican**  | 1972 | Richard Nixon | 47168710      | win   | 60.907806 |\n",
    "|**Democratic-Republican**  | 1824 | Andrew Jackson | 151271      | loss   | 57.210122 |\n",
    "\n",
    "Note that the index is `Party`. In other words, don't use `reset_index`.\n"
   ]
  },
  {
   "cell_type": "code",
   "execution_count": null,
   "metadata": {
    "ExecuteTime": {
     "end_time": "2020-09-16T20:55:18.356549Z",
     "start_time": "2020-09-16T20:55:18.350541Z"
    },
    "tags": []
   },
   "outputs": [],
   "source": [
    "best_result = elections[elections[\"%\"] > 10].sort_values(by=\"%\",ascending=False).groupby(\"Party\").first().sort_values(by=\"%\", ascending=False)\n",
    "best_result"
   ]
  },
  {
   "cell_type": "code",
   "execution_count": null,
   "metadata": {
    "deletable": false,
    "editable": false
   },
   "outputs": [],
   "source": [
    "grader.check(\"q1b\")"
   ]
  },
  {
   "cell_type": "markdown",
   "metadata": {},
   "source": [
    "### **REVIEW:** `DataFrameGroupBy.filter`"
   ]
  },
  {
   "cell_type": "markdown",
   "metadata": {},
   "source": [
    "Our `DataFrame` contains a number of parties that have never had a successful presidential run. For example, the 2020 elections included candidates from the Libertarian and Green parties, neither of which have elected a president."
   ]
  },
  {
   "cell_type": "code",
   "execution_count": null,
   "metadata": {},
   "outputs": [],
   "source": [
    "# Run this cell to print the last four rows; no further action is needed.\n",
    "elections.tail(4)"
   ]
  },
  {
   "cell_type": "markdown",
   "metadata": {},
   "source": [
    "Suppose we were conducting an analysis trying to focus our attention on parties that had elected a president. \n",
    "\n",
    "The most natural approach is to use `groupby.filter` [(docs)](https://pandas.pydata.org/docs/reference/api/pandas.core.groupby.DataFrameGroupBy.filter.html). This is an incredibly powerful but subtle tool for filtering data.\n",
    "\n",
    "The code below accomplishes the task at hand. It does this by creating a function that returns `True` if and only if a sub-`DataFrame` (a.k.a. group) contains at least one winner. This function, in turn, uses the `pandas` function `any` [(docs)](https://pandas.pydata.org/docs/reference/api/pandas.Series.any.html)."
   ]
  },
  {
   "cell_type": "code",
   "execution_count": null,
   "metadata": {
    "ExecuteTime": {
     "end_time": "2020-09-16T20:55:19.814724Z",
     "start_time": "2020-09-16T20:55:19.781171Z"
    }
   },
   "outputs": [],
   "source": [
    "# Run this cell to keep only the rows of parties that have \n",
    "# elected a president; no further action is needed.\n",
    "def at_least_one_candidate_in_the_frame_has_won(frame):\n",
    "    \"\"\"Returns df with rows only kept for parties that have\n",
    "    won at least one election\n",
    "    \"\"\"\n",
    "    return (frame[\"Result\"] == 'win').any()\n",
    "\n",
    "winners_only = (\n",
    "    elections\n",
    "        .groupby(\"Party\")\n",
    "        .filter(at_least_one_candidate_in_the_frame_has_won)\n",
    ")\n",
    "winners_only.tail(5)"
   ]
  },
  {
   "cell_type": "markdown",
   "metadata": {},
   "source": [
    "Alternately, we could have used a `lambda` function instead of explicitly defining a named function using `def`. "
   ]
  },
  {
   "cell_type": "code",
   "execution_count": null,
   "metadata": {},
   "outputs": [],
   "source": [
    "# Run this cell to keep only the rows of parties that have \n",
    "# elected a president; no further action is needed.\n",
    "winners_only = (\n",
    "    elections\n",
    "        .groupby(\"Party\")\n",
    "        .filter(lambda x : (x[\"Result\"] == \"win\").any())\n",
    ")\n",
    "winners_only.tail(5)"
   ]
  },
  {
   "cell_type": "markdown",
   "metadata": {
    "deletable": false,
    "editable": false
   },
   "source": [
    "<br>\n",
    "\n",
    "---\n",
    "\n",
    "### Question 1c"
   ]
  },
  {
   "cell_type": "markdown",
   "metadata": {
    "deletable": false,
    "editable": false
   },
   "source": [
    "Using `filter`, create a `DataFrame` object `major_party_results_since_1988` that includes all election results starting after 1988 (exclusive) but only shows a row if the Party it belongs to has earned at least 1% of the popular vote in ANY election since 1988.\n",
    "\n",
    "For example, in 1988, you should not include the `New Alliance` candidate since this party has not earned 1% of the vote since 1988. However, you should include the `Libertarian` candidate from 1988 despite only having 0.47 percent of the vote in 1988, because in 2016 and 2020, the Libertarian candidates Gary Johnson and Jo Jorgensen exceeded 1% of the vote.\n",
    "\n",
    "For example, the first three rows of the table you generate should look like:\n",
    "\n",
    "|     |   Year | Candidate         | Party       |   Popular vote | Result   |         % |\n",
    "|----:|-------:|:------------------|:------------|---------------:|:---------|----------:|\n",
    "| 139 |   1992 | Andre Marrou      | Libertarian |       290087   | loss     | 0.278516  |\n",
    "| 140 |   1992 | Bill Clinton      | Democratic  |       44909806 | win      | 43.118485 |\n",
    "| 142 |   1992 | George H. W. Bush | Republican  |       39104550 | loss     |  37.544784|\n",
    "\n",
    "*Hint*: The following questions might help you construct your solution. One of the lines should be identical to the `filter` examples shown above.\n",
    "\n",
    "1) How can we **only** keep rows in the data starting after 1988 (exclusive)?\n",
    "2) What column should we `groupby` to filter out parties that have earned at least 1% of the popular vote in ANY election since 1988?\n",
    "3) How can we write an aggregation function that takes a sub-DataFrame and returns whether at least 1% of the vote has been earned in that sub-DataFrame? This may give you a hint about the second question!\n"
   ]
  },
  {
   "cell_type": "code",
   "execution_count": null,
   "metadata": {
    "ExecuteTime": {
     "end_time": "2020-09-16T20:55:21.762599Z",
     "start_time": "2020-09-16T20:55:21.743430Z"
    },
    "tags": []
   },
   "outputs": [],
   "source": [
    "major_party_results_since_1988 = (elections[elections[\"Year\"] > 1988]\n",
    "                                  .groupby(\"Party\")\n",
    "                                  .filter(lambda x: (x[\"%\"] >= 1).any()))\n",
    "major_party_results_since_1988.head()"
   ]
  },
  {
   "cell_type": "code",
   "execution_count": null,
   "metadata": {
    "deletable": false,
    "editable": false
   },
   "outputs": [],
   "source": [
    "grader.check(\"q1c\")"
   ]
  },
  {
   "cell_type": "markdown",
   "metadata": {},
   "source": [
    "### **REVIEW:** `str`\n",
    "\n",
    "`pandas` provides special purpose functions for working with specific common data types such as strings and dates, which you will learn about in more detail in Lecture 6. For example, the code below provides the length of every Candidate's name from our `elections` dataset. "
   ]
  },
  {
   "cell_type": "code",
   "execution_count": null,
   "metadata": {},
   "outputs": [],
   "source": [
    "elections[\"Candidate\"].str.len()"
   ]
  },
  {
   "cell_type": "markdown",
   "metadata": {
    "deletable": false,
    "editable": false
   },
   "source": [
    "<br>\n",
    "\n",
    "---\n",
    "\n",
    "### Question 2"
   ]
  },
  {
   "cell_type": "markdown",
   "metadata": {
    "deletable": false,
    "editable": false
   },
   "source": [
    "Using `.str.split`, create a new `DataFrame` called `elections_with_first_name` with a new column `First Name` that is equal to the Candidate's first name.\n",
    "\n",
    "See the `pandas` `str` [documentation](https://pandas.pydata.org/docs/reference/api/pandas.Series.str.split.html) for documentation on using `str.split`."
   ]
  },
  {
   "cell_type": "code",
   "execution_count": 19,
   "metadata": {
    "ExecuteTime": {
     "end_time": "2020-09-16T03:07:32.775469Z",
     "start_time": "2020-09-16T03:07:32.769402Z"
    },
    "tags": []
   },
   "outputs": [
    {
     "data": {
      "text/html": [
       "<div>\n",
       "<style scoped>\n",
       "    .dataframe tbody tr th:only-of-type {\n",
       "        vertical-align: middle;\n",
       "    }\n",
       "\n",
       "    .dataframe tbody tr th {\n",
       "        vertical-align: top;\n",
       "    }\n",
       "\n",
       "    .dataframe thead th {\n",
       "        text-align: right;\n",
       "    }\n",
       "</style>\n",
       "<table border=\"1\" class=\"dataframe\">\n",
       "  <thead>\n",
       "    <tr style=\"text-align: right;\">\n",
       "      <th></th>\n",
       "      <th>Year</th>\n",
       "      <th>Candidate</th>\n",
       "      <th>Party</th>\n",
       "      <th>Popular vote</th>\n",
       "      <th>Result</th>\n",
       "      <th>%</th>\n",
       "      <th>First Name</th>\n",
       "    </tr>\n",
       "  </thead>\n",
       "  <tbody>\n",
       "    <tr>\n",
       "      <th>0</th>\n",
       "      <td>1824</td>\n",
       "      <td>Andrew Jackson</td>\n",
       "      <td>Democratic-Republican</td>\n",
       "      <td>151271</td>\n",
       "      <td>loss</td>\n",
       "      <td>57.210122</td>\n",
       "      <td>Andrew</td>\n",
       "    </tr>\n",
       "    <tr>\n",
       "      <th>1</th>\n",
       "      <td>1824</td>\n",
       "      <td>John Quincy Adams</td>\n",
       "      <td>Democratic-Republican</td>\n",
       "      <td>113142</td>\n",
       "      <td>win</td>\n",
       "      <td>42.789878</td>\n",
       "      <td>John</td>\n",
       "    </tr>\n",
       "    <tr>\n",
       "      <th>2</th>\n",
       "      <td>1828</td>\n",
       "      <td>Andrew Jackson</td>\n",
       "      <td>Democratic</td>\n",
       "      <td>642806</td>\n",
       "      <td>win</td>\n",
       "      <td>56.203927</td>\n",
       "      <td>Andrew</td>\n",
       "    </tr>\n",
       "    <tr>\n",
       "      <th>3</th>\n",
       "      <td>1828</td>\n",
       "      <td>John Quincy Adams</td>\n",
       "      <td>National Republican</td>\n",
       "      <td>500897</td>\n",
       "      <td>loss</td>\n",
       "      <td>43.796073</td>\n",
       "      <td>John</td>\n",
       "    </tr>\n",
       "    <tr>\n",
       "      <th>4</th>\n",
       "      <td>1832</td>\n",
       "      <td>Andrew Jackson</td>\n",
       "      <td>Democratic</td>\n",
       "      <td>702735</td>\n",
       "      <td>win</td>\n",
       "      <td>54.574789</td>\n",
       "      <td>Andrew</td>\n",
       "    </tr>\n",
       "    <tr>\n",
       "      <th>...</th>\n",
       "      <td>...</td>\n",
       "      <td>...</td>\n",
       "      <td>...</td>\n",
       "      <td>...</td>\n",
       "      <td>...</td>\n",
       "      <td>...</td>\n",
       "      <td>...</td>\n",
       "    </tr>\n",
       "    <tr>\n",
       "      <th>177</th>\n",
       "      <td>2016</td>\n",
       "      <td>Jill Stein</td>\n",
       "      <td>Green</td>\n",
       "      <td>1457226</td>\n",
       "      <td>loss</td>\n",
       "      <td>1.073699</td>\n",
       "      <td>Jill</td>\n",
       "    </tr>\n",
       "    <tr>\n",
       "      <th>178</th>\n",
       "      <td>2020</td>\n",
       "      <td>Joseph Biden</td>\n",
       "      <td>Democratic</td>\n",
       "      <td>81268924</td>\n",
       "      <td>win</td>\n",
       "      <td>51.311515</td>\n",
       "      <td>Joseph</td>\n",
       "    </tr>\n",
       "    <tr>\n",
       "      <th>179</th>\n",
       "      <td>2020</td>\n",
       "      <td>Donald Trump</td>\n",
       "      <td>Republican</td>\n",
       "      <td>74216154</td>\n",
       "      <td>loss</td>\n",
       "      <td>46.858542</td>\n",
       "      <td>Donald</td>\n",
       "    </tr>\n",
       "    <tr>\n",
       "      <th>180</th>\n",
       "      <td>2020</td>\n",
       "      <td>Jo Jorgensen</td>\n",
       "      <td>Libertarian</td>\n",
       "      <td>1865724</td>\n",
       "      <td>loss</td>\n",
       "      <td>1.177979</td>\n",
       "      <td>Jo</td>\n",
       "    </tr>\n",
       "    <tr>\n",
       "      <th>181</th>\n",
       "      <td>2020</td>\n",
       "      <td>Howard Hawkins</td>\n",
       "      <td>Green</td>\n",
       "      <td>405035</td>\n",
       "      <td>loss</td>\n",
       "      <td>0.255731</td>\n",
       "      <td>Howard</td>\n",
       "    </tr>\n",
       "  </tbody>\n",
       "</table>\n",
       "<p>182 rows × 7 columns</p>\n",
       "</div>"
      ],
      "text/plain": [
       "     Year          Candidate                  Party  Popular vote Result  \\\n",
       "0    1824     Andrew Jackson  Democratic-Republican        151271   loss   \n",
       "1    1824  John Quincy Adams  Democratic-Republican        113142    win   \n",
       "2    1828     Andrew Jackson             Democratic        642806    win   \n",
       "3    1828  John Quincy Adams    National Republican        500897   loss   \n",
       "4    1832     Andrew Jackson             Democratic        702735    win   \n",
       "..    ...                ...                    ...           ...    ...   \n",
       "177  2016         Jill Stein                  Green       1457226   loss   \n",
       "178  2020       Joseph Biden             Democratic      81268924    win   \n",
       "179  2020       Donald Trump             Republican      74216154   loss   \n",
       "180  2020       Jo Jorgensen            Libertarian       1865724   loss   \n",
       "181  2020     Howard Hawkins                  Green        405035   loss   \n",
       "\n",
       "             % First Name  \n",
       "0    57.210122     Andrew  \n",
       "1    42.789878       John  \n",
       "2    56.203927     Andrew  \n",
       "3    43.796073       John  \n",
       "4    54.574789     Andrew  \n",
       "..         ...        ...  \n",
       "177   1.073699       Jill  \n",
       "178  51.311515     Joseph  \n",
       "179  46.858542     Donald  \n",
       "180   1.177979         Jo  \n",
       "181   0.255731     Howard  \n",
       "\n",
       "[182 rows x 7 columns]"
      ]
     },
     "execution_count": 19,
     "metadata": {},
     "output_type": "execute_result"
    }
   ],
   "source": [
    "elections_with_first_name = elections.copy()\n",
    "elections_with_first_name[\"First Name\"] = elections_with_first_name[\"Candidate\"].str.split(\" \").str[0]\n",
    "elections_with_first_name"
   ]
  },
  {
   "cell_type": "code",
   "execution_count": 20,
   "metadata": {
    "deletable": false,
    "editable": false
   },
   "outputs": [
    {
     "data": {
      "text/html": [
       "<p><strong><pre style='display: inline;'>q2</pre></strong> passed! ✨</p>"
      ],
      "text/plain": [
       "q2 results: All test cases passed!"
      ]
     },
     "execution_count": 20,
     "metadata": {},
     "output_type": "execute_result"
    }
   ],
   "source": [
    "grader.check(\"q2\")"
   ]
  },
  {
   "cell_type": "markdown",
   "metadata": {},
   "source": [
    "<br>\n",
    "\n",
    "---\n",
    "\n",
    "## Babynames\n",
    "Remember the `babynames` dataset from Lab02A? Let's load it in again and explore the data with our newly covered functions! Like last time, we'll only load in data from California. \n",
    "\n",
    "Run the following cell: "
   ]
  },
  {
   "cell_type": "code",
   "execution_count": 13,
   "metadata": {},
   "outputs": [
    {
     "data": {
      "text/html": [
       "<div>\n",
       "<style scoped>\n",
       "    .dataframe tbody tr th:only-of-type {\n",
       "        vertical-align: middle;\n",
       "    }\n",
       "\n",
       "    .dataframe tbody tr th {\n",
       "        vertical-align: top;\n",
       "    }\n",
       "\n",
       "    .dataframe thead th {\n",
       "        text-align: right;\n",
       "    }\n",
       "</style>\n",
       "<table border=\"1\" class=\"dataframe\">\n",
       "  <thead>\n",
       "    <tr style=\"text-align: right;\">\n",
       "      <th></th>\n",
       "      <th>State</th>\n",
       "      <th>Sex</th>\n",
       "      <th>Year</th>\n",
       "      <th>Name</th>\n",
       "      <th>Count</th>\n",
       "    </tr>\n",
       "  </thead>\n",
       "  <tbody>\n",
       "    <tr>\n",
       "      <th>0</th>\n",
       "      <td>CA</td>\n",
       "      <td>F</td>\n",
       "      <td>1910</td>\n",
       "      <td>Mary</td>\n",
       "      <td>295</td>\n",
       "    </tr>\n",
       "    <tr>\n",
       "      <th>1</th>\n",
       "      <td>CA</td>\n",
       "      <td>F</td>\n",
       "      <td>1910</td>\n",
       "      <td>Helen</td>\n",
       "      <td>239</td>\n",
       "    </tr>\n",
       "    <tr>\n",
       "      <th>2</th>\n",
       "      <td>CA</td>\n",
       "      <td>F</td>\n",
       "      <td>1910</td>\n",
       "      <td>Dorothy</td>\n",
       "      <td>220</td>\n",
       "    </tr>\n",
       "    <tr>\n",
       "      <th>3</th>\n",
       "      <td>CA</td>\n",
       "      <td>F</td>\n",
       "      <td>1910</td>\n",
       "      <td>Margaret</td>\n",
       "      <td>163</td>\n",
       "    </tr>\n",
       "    <tr>\n",
       "      <th>4</th>\n",
       "      <td>CA</td>\n",
       "      <td>F</td>\n",
       "      <td>1910</td>\n",
       "      <td>Frances</td>\n",
       "      <td>134</td>\n",
       "    </tr>\n",
       "  </tbody>\n",
       "</table>\n",
       "</div>"
      ],
      "text/plain": [
       "  State Sex  Year      Name  Count\n",
       "0    CA   F  1910      Mary    295\n",
       "1    CA   F  1910     Helen    239\n",
       "2    CA   F  1910   Dorothy    220\n",
       "3    CA   F  1910  Margaret    163\n",
       "4    CA   F  1910   Frances    134"
      ]
     },
     "execution_count": 13,
     "metadata": {},
     "output_type": "execute_result"
    }
   ],
   "source": [
    "file_path = 'data/namesbystate_ca.txt.gz'\n",
    "column_labels = ['State', 'Sex', 'Year', 'Name', 'Count']\n",
    "\n",
    "babynames = pd.read_csv(file_path, names=column_labels)\n",
    "\n",
    "babynames.head()"
   ]
  },
  {
   "cell_type": "markdown",
   "metadata": {},
   "source": [
    "The code below creates a table with the frequency of all names from 2022. "
   ]
  },
  {
   "cell_type": "code",
   "execution_count": 17,
   "metadata": {},
   "outputs": [
    {
     "data": {
      "text/html": [
       "<div>\n",
       "<style scoped>\n",
       "    .dataframe tbody tr th:only-of-type {\n",
       "        vertical-align: middle;\n",
       "    }\n",
       "\n",
       "    .dataframe tbody tr th {\n",
       "        vertical-align: top;\n",
       "    }\n",
       "\n",
       "    .dataframe thead th {\n",
       "        text-align: right;\n",
       "    }\n",
       "</style>\n",
       "<table border=\"1\" class=\"dataframe\">\n",
       "  <thead>\n",
       "    <tr style=\"text-align: right;\">\n",
       "      <th></th>\n",
       "      <th>Name</th>\n",
       "      <th>Count</th>\n",
       "    </tr>\n",
       "  </thead>\n",
       "  <tbody>\n",
       "    <tr>\n",
       "      <th>0</th>\n",
       "      <td>Aadhini</td>\n",
       "      <td>6</td>\n",
       "    </tr>\n",
       "    <tr>\n",
       "      <th>1</th>\n",
       "      <td>Aadhira</td>\n",
       "      <td>5</td>\n",
       "    </tr>\n",
       "    <tr>\n",
       "      <th>2</th>\n",
       "      <td>Aadhya</td>\n",
       "      <td>33</td>\n",
       "    </tr>\n",
       "    <tr>\n",
       "      <th>3</th>\n",
       "      <td>Aadi</td>\n",
       "      <td>11</td>\n",
       "    </tr>\n",
       "    <tr>\n",
       "      <th>4</th>\n",
       "      <td>Aadit</td>\n",
       "      <td>5</td>\n",
       "    </tr>\n",
       "    <tr>\n",
       "      <th>...</th>\n",
       "      <td>...</td>\n",
       "      <td>...</td>\n",
       "    </tr>\n",
       "    <tr>\n",
       "      <th>6196</th>\n",
       "      <td>Zyla</td>\n",
       "      <td>20</td>\n",
       "    </tr>\n",
       "    <tr>\n",
       "      <th>6197</th>\n",
       "      <td>Zylah</td>\n",
       "      <td>14</td>\n",
       "    </tr>\n",
       "    <tr>\n",
       "      <th>6198</th>\n",
       "      <td>Zylo</td>\n",
       "      <td>5</td>\n",
       "    </tr>\n",
       "    <tr>\n",
       "      <th>6199</th>\n",
       "      <td>Zyon</td>\n",
       "      <td>17</td>\n",
       "    </tr>\n",
       "    <tr>\n",
       "      <th>6200</th>\n",
       "      <td>Zyra</td>\n",
       "      <td>16</td>\n",
       "    </tr>\n",
       "  </tbody>\n",
       "</table>\n",
       "<p>6201 rows × 2 columns</p>\n",
       "</div>"
      ],
      "text/plain": [
       "         Name  Count\n",
       "0     Aadhini      6\n",
       "1     Aadhira      5\n",
       "2      Aadhya     33\n",
       "3        Aadi     11\n",
       "4       Aadit      5\n",
       "...       ...    ...\n",
       "6196     Zyla     20\n",
       "6197    Zylah     14\n",
       "6198     Zylo      5\n",
       "6199     Zyon     17\n",
       "6200     Zyra     16\n",
       "\n",
       "[6201 rows x 2 columns]"
      ]
     },
     "execution_count": 17,
     "metadata": {},
     "output_type": "execute_result"
    }
   ],
   "source": [
    "# Run this cell to create a table with the frequency \n",
    "# of all names from 2022; no further action is needed.\n",
    "babynames_2022 = (\n",
    "    babynames[babynames['Year'] == 2022]\n",
    "              .groupby(\"Name\")\n",
    "              .sum()[[\"Count\"]]\n",
    "              .reset_index()\n",
    ")\n",
    "babynames_2022"
   ]
  },
  {
   "cell_type": "markdown",
   "metadata": {
    "deletable": false,
    "editable": false
   },
   "source": [
    "<br>\n",
    "\n",
    "---\n",
    "\n",
    "### Question 3"
   ]
  },
  {
   "cell_type": "markdown",
   "metadata": {
    "deletable": false,
    "editable": false
   },
   "source": [
    "Using the [pd.merge](https://pandas.pydata.org/docs/reference/api/pandas.DataFrame.merge.html) function described in the lecture, combine the `babynames_2022` table with the `elections_with_first_name` table you created earlier to form `presidential_candidates_and_name_popularity`. Your resulting `DataFrame` should contain all columns from both of the tables."
   ]
  },
  {
   "cell_type": "code",
   "execution_count": 21,
   "metadata": {
    "tags": []
   },
   "outputs": [
    {
     "data": {
      "text/html": [
       "<div>\n",
       "<style scoped>\n",
       "    .dataframe tbody tr th:only-of-type {\n",
       "        vertical-align: middle;\n",
       "    }\n",
       "\n",
       "    .dataframe tbody tr th {\n",
       "        vertical-align: top;\n",
       "    }\n",
       "\n",
       "    .dataframe thead th {\n",
       "        text-align: right;\n",
       "    }\n",
       "</style>\n",
       "<table border=\"1\" class=\"dataframe\">\n",
       "  <thead>\n",
       "    <tr style=\"text-align: right;\">\n",
       "      <th></th>\n",
       "      <th>Year</th>\n",
       "      <th>Candidate</th>\n",
       "      <th>Party</th>\n",
       "      <th>Popular vote</th>\n",
       "      <th>Result</th>\n",
       "      <th>%</th>\n",
       "      <th>First Name</th>\n",
       "      <th>Name</th>\n",
       "      <th>Count</th>\n",
       "    </tr>\n",
       "  </thead>\n",
       "  <tbody>\n",
       "    <tr>\n",
       "      <th>0</th>\n",
       "      <td>1824</td>\n",
       "      <td>Andrew Jackson</td>\n",
       "      <td>Democratic-Republican</td>\n",
       "      <td>151271</td>\n",
       "      <td>loss</td>\n",
       "      <td>57.210122</td>\n",
       "      <td>Andrew</td>\n",
       "      <td>Andrew</td>\n",
       "      <td>741</td>\n",
       "    </tr>\n",
       "    <tr>\n",
       "      <th>1</th>\n",
       "      <td>1824</td>\n",
       "      <td>John Quincy Adams</td>\n",
       "      <td>Democratic-Republican</td>\n",
       "      <td>113142</td>\n",
       "      <td>win</td>\n",
       "      <td>42.789878</td>\n",
       "      <td>John</td>\n",
       "      <td>John</td>\n",
       "      <td>490</td>\n",
       "    </tr>\n",
       "    <tr>\n",
       "      <th>2</th>\n",
       "      <td>1828</td>\n",
       "      <td>Andrew Jackson</td>\n",
       "      <td>Democratic</td>\n",
       "      <td>642806</td>\n",
       "      <td>win</td>\n",
       "      <td>56.203927</td>\n",
       "      <td>Andrew</td>\n",
       "      <td>Andrew</td>\n",
       "      <td>741</td>\n",
       "    </tr>\n",
       "    <tr>\n",
       "      <th>3</th>\n",
       "      <td>1828</td>\n",
       "      <td>John Quincy Adams</td>\n",
       "      <td>National Republican</td>\n",
       "      <td>500897</td>\n",
       "      <td>loss</td>\n",
       "      <td>43.796073</td>\n",
       "      <td>John</td>\n",
       "      <td>John</td>\n",
       "      <td>490</td>\n",
       "    </tr>\n",
       "    <tr>\n",
       "      <th>4</th>\n",
       "      <td>1832</td>\n",
       "      <td>Andrew Jackson</td>\n",
       "      <td>Democratic</td>\n",
       "      <td>702735</td>\n",
       "      <td>win</td>\n",
       "      <td>54.574789</td>\n",
       "      <td>Andrew</td>\n",
       "      <td>Andrew</td>\n",
       "      <td>741</td>\n",
       "    </tr>\n",
       "    <tr>\n",
       "      <th>...</th>\n",
       "      <td>...</td>\n",
       "      <td>...</td>\n",
       "      <td>...</td>\n",
       "      <td>...</td>\n",
       "      <td>...</td>\n",
       "      <td>...</td>\n",
       "      <td>...</td>\n",
       "      <td>...</td>\n",
       "      <td>...</td>\n",
       "    </tr>\n",
       "    <tr>\n",
       "      <th>139</th>\n",
       "      <td>2016</td>\n",
       "      <td>Gary Johnson</td>\n",
       "      <td>Libertarian</td>\n",
       "      <td>4489235</td>\n",
       "      <td>loss</td>\n",
       "      <td>3.307714</td>\n",
       "      <td>Gary</td>\n",
       "      <td>Gary</td>\n",
       "      <td>19</td>\n",
       "    </tr>\n",
       "    <tr>\n",
       "      <th>140</th>\n",
       "      <td>2016</td>\n",
       "      <td>Hillary Clinton</td>\n",
       "      <td>Democratic</td>\n",
       "      <td>65853514</td>\n",
       "      <td>loss</td>\n",
       "      <td>48.521539</td>\n",
       "      <td>Hillary</td>\n",
       "      <td>Hillary</td>\n",
       "      <td>10</td>\n",
       "    </tr>\n",
       "    <tr>\n",
       "      <th>141</th>\n",
       "      <td>2020</td>\n",
       "      <td>Joseph Biden</td>\n",
       "      <td>Democratic</td>\n",
       "      <td>81268924</td>\n",
       "      <td>win</td>\n",
       "      <td>51.311515</td>\n",
       "      <td>Joseph</td>\n",
       "      <td>Joseph</td>\n",
       "      <td>785</td>\n",
       "    </tr>\n",
       "    <tr>\n",
       "      <th>142</th>\n",
       "      <td>2020</td>\n",
       "      <td>Donald Trump</td>\n",
       "      <td>Republican</td>\n",
       "      <td>74216154</td>\n",
       "      <td>loss</td>\n",
       "      <td>46.858542</td>\n",
       "      <td>Donald</td>\n",
       "      <td>Donald</td>\n",
       "      <td>33</td>\n",
       "    </tr>\n",
       "    <tr>\n",
       "      <th>143</th>\n",
       "      <td>2020</td>\n",
       "      <td>Howard Hawkins</td>\n",
       "      <td>Green</td>\n",
       "      <td>405035</td>\n",
       "      <td>loss</td>\n",
       "      <td>0.255731</td>\n",
       "      <td>Howard</td>\n",
       "      <td>Howard</td>\n",
       "      <td>18</td>\n",
       "    </tr>\n",
       "  </tbody>\n",
       "</table>\n",
       "<p>144 rows × 9 columns</p>\n",
       "</div>"
      ],
      "text/plain": [
       "     Year          Candidate                  Party  Popular vote Result  \\\n",
       "0    1824     Andrew Jackson  Democratic-Republican        151271   loss   \n",
       "1    1824  John Quincy Adams  Democratic-Republican        113142    win   \n",
       "2    1828     Andrew Jackson             Democratic        642806    win   \n",
       "3    1828  John Quincy Adams    National Republican        500897   loss   \n",
       "4    1832     Andrew Jackson             Democratic        702735    win   \n",
       "..    ...                ...                    ...           ...    ...   \n",
       "139  2016       Gary Johnson            Libertarian       4489235   loss   \n",
       "140  2016    Hillary Clinton             Democratic      65853514   loss   \n",
       "141  2020       Joseph Biden             Democratic      81268924    win   \n",
       "142  2020       Donald Trump             Republican      74216154   loss   \n",
       "143  2020     Howard Hawkins                  Green        405035   loss   \n",
       "\n",
       "             % First Name     Name  Count  \n",
       "0    57.210122     Andrew   Andrew    741  \n",
       "1    42.789878       John     John    490  \n",
       "2    56.203927     Andrew   Andrew    741  \n",
       "3    43.796073       John     John    490  \n",
       "4    54.574789     Andrew   Andrew    741  \n",
       "..         ...        ...      ...    ...  \n",
       "139   3.307714       Gary     Gary     19  \n",
       "140  48.521539    Hillary  Hillary     10  \n",
       "141  51.311515     Joseph   Joseph    785  \n",
       "142  46.858542     Donald   Donald     33  \n",
       "143   0.255731     Howard   Howard     18  \n",
       "\n",
       "[144 rows x 9 columns]"
      ]
     },
     "execution_count": 21,
     "metadata": {},
     "output_type": "execute_result"
    }
   ],
   "source": [
    "presidential_candidates_and_name_popularity = elections_with_first_name.merge(babynames_2022, left_on=\"First Name\", right_on=\"Name\")\n",
    "presidential_candidates_and_name_popularity"
   ]
  },
  {
   "cell_type": "code",
   "execution_count": 22,
   "metadata": {
    "deletable": false,
    "editable": false
   },
   "outputs": [
    {
     "data": {
      "text/html": [
       "<p><strong><pre style='display: inline;'>q3</pre></strong> passed! 🍀</p>"
      ],
      "text/plain": [
       "q3 results: All test cases passed!"
      ]
     },
     "execution_count": 22,
     "metadata": {},
     "output_type": "execute_result"
    }
   ],
   "source": [
    "grader.check(\"q3\")"
   ]
  },
  {
   "cell_type": "markdown",
   "metadata": {},
   "source": [
    "### **REVIEW:** `pandas.pivot_table`\n",
    "\n",
    "Suppose we want to build a table showing the total number of babies born of each sex in each year. One way is to `groupby` using both columns of interest:"
   ]
  },
  {
   "cell_type": "code",
   "execution_count": 23,
   "metadata": {},
   "outputs": [
    {
     "name": "stderr",
     "output_type": "stream",
     "text": [
      "/tmp/ipykernel_1219/3400362585.py:1: FutureWarning: The provided callable <built-in function sum> is currently using DataFrameGroupBy.sum. In a future version of pandas, the provided callable will be used directly. To keep current behavior pass the string \"sum\" instead.\n",
      "  babynames.groupby([\"Year\", \"Sex\"])[[\"Count\"]].agg(sum).head(6)\n"
     ]
    },
    {
     "data": {
      "text/html": [
       "<div>\n",
       "<style scoped>\n",
       "    .dataframe tbody tr th:only-of-type {\n",
       "        vertical-align: middle;\n",
       "    }\n",
       "\n",
       "    .dataframe tbody tr th {\n",
       "        vertical-align: top;\n",
       "    }\n",
       "\n",
       "    .dataframe thead th {\n",
       "        text-align: right;\n",
       "    }\n",
       "</style>\n",
       "<table border=\"1\" class=\"dataframe\">\n",
       "  <thead>\n",
       "    <tr style=\"text-align: right;\">\n",
       "      <th></th>\n",
       "      <th></th>\n",
       "      <th>Count</th>\n",
       "    </tr>\n",
       "    <tr>\n",
       "      <th>Year</th>\n",
       "      <th>Sex</th>\n",
       "      <th></th>\n",
       "    </tr>\n",
       "  </thead>\n",
       "  <tbody>\n",
       "    <tr>\n",
       "      <th rowspan=\"2\" valign=\"top\">1910</th>\n",
       "      <th>F</th>\n",
       "      <td>5950</td>\n",
       "    </tr>\n",
       "    <tr>\n",
       "      <th>M</th>\n",
       "      <td>3213</td>\n",
       "    </tr>\n",
       "    <tr>\n",
       "      <th rowspan=\"2\" valign=\"top\">1911</th>\n",
       "      <th>F</th>\n",
       "      <td>6602</td>\n",
       "    </tr>\n",
       "    <tr>\n",
       "      <th>M</th>\n",
       "      <td>3381</td>\n",
       "    </tr>\n",
       "    <tr>\n",
       "      <th rowspan=\"2\" valign=\"top\">1912</th>\n",
       "      <th>F</th>\n",
       "      <td>9804</td>\n",
       "    </tr>\n",
       "    <tr>\n",
       "      <th>M</th>\n",
       "      <td>8142</td>\n",
       "    </tr>\n",
       "  </tbody>\n",
       "</table>\n",
       "</div>"
      ],
      "text/plain": [
       "          Count\n",
       "Year Sex       \n",
       "1910 F     5950\n",
       "     M     3213\n",
       "1911 F     6602\n",
       "     M     3381\n",
       "1912 F     9804\n",
       "     M     8142"
      ]
     },
     "execution_count": 23,
     "metadata": {},
     "output_type": "execute_result"
    }
   ],
   "source": [
    "babynames.groupby([\"Year\", \"Sex\"])[[\"Count\"]].agg(sum).head(6)"
   ]
  },
  {
   "cell_type": "markdown",
   "metadata": {},
   "source": [
    "While this does give us the information we're looking for, a more natural approach is to use pivot tables to represent our data in a more readable format."
   ]
  },
  {
   "cell_type": "code",
   "execution_count": null,
   "metadata": {},
   "outputs": [
    {
     "name": "stderr",
     "output_type": "stream",
     "text": [
      "/tmp/ipykernel_1219/1493871698.py:1: FutureWarning: The provided callable <built-in function sum> is currently using DataFrameGroupBy.sum. In a future version of pandas, the provided callable will be used directly. To keep current behavior pass the string \"sum\" instead.\n",
      "  babynames_pivot = babynames.pivot_table(\n"
     ]
    },
    {
     "data": {
      "text/html": [
       "<div>\n",
       "<style scoped>\n",
       "    .dataframe tbody tr th:only-of-type {\n",
       "        vertical-align: middle;\n",
       "    }\n",
       "\n",
       "    .dataframe tbody tr th {\n",
       "        vertical-align: top;\n",
       "    }\n",
       "\n",
       "    .dataframe thead tr th {\n",
       "        text-align: left;\n",
       "    }\n",
       "\n",
       "    .dataframe thead tr:last-of-type th {\n",
       "        text-align: right;\n",
       "    }\n",
       "</style>\n",
       "<table border=\"1\" class=\"dataframe\">\n",
       "  <thead>\n",
       "    <tr>\n",
       "      <th></th>\n",
       "      <th colspan=\"2\" halign=\"left\">Count</th>\n",
       "    </tr>\n",
       "    <tr>\n",
       "      <th>Sex</th>\n",
       "      <th>F</th>\n",
       "      <th>M</th>\n",
       "    </tr>\n",
       "    <tr>\n",
       "      <th>Year</th>\n",
       "      <th></th>\n",
       "      <th></th>\n",
       "    </tr>\n",
       "  </thead>\n",
       "  <tbody>\n",
       "    <tr>\n",
       "      <th>1910</th>\n",
       "      <td>5950</td>\n",
       "      <td>3213</td>\n",
       "    </tr>\n",
       "    <tr>\n",
       "      <th>1911</th>\n",
       "      <td>6602</td>\n",
       "      <td>3381</td>\n",
       "    </tr>\n",
       "    <tr>\n",
       "      <th>1912</th>\n",
       "      <td>9804</td>\n",
       "      <td>8142</td>\n",
       "    </tr>\n",
       "    <tr>\n",
       "      <th>1913</th>\n",
       "      <td>11860</td>\n",
       "      <td>10234</td>\n",
       "    </tr>\n",
       "    <tr>\n",
       "      <th>1914</th>\n",
       "      <td>13815</td>\n",
       "      <td>13111</td>\n",
       "    </tr>\n",
       "    <tr>\n",
       "      <th>1915</th>\n",
       "      <td>18643</td>\n",
       "      <td>17192</td>\n",
       "    </tr>\n",
       "  </tbody>\n",
       "</table>\n",
       "</div>"
      ],
      "text/plain": [
       "      Count       \n",
       "Sex       F      M\n",
       "Year              \n",
       "1910   5950   3213\n",
       "1911   6602   3381\n",
       "1912   9804   8142\n",
       "1913  11860  10234\n",
       "1914  13815  13111\n",
       "1915  18643  17192"
      ]
     },
     "execution_count": 25,
     "metadata": {},
     "output_type": "execute_result"
    }
   ],
   "source": [
    "babynames_pivot = babynames.pivot_table(\n",
    "    index = \"Year\",     # rows (turned into index)\n",
    "    columns = \"Sex\",    # column values\n",
    "    values = [\"Count\"], # field(s) to process in each group\n",
    "    aggfunc = np.sum,   # group operation\n",
    ")\n",
    "babynames_pivot.head(6)"
   ]
  },
  {
   "cell_type": "markdown",
   "metadata": {},
   "source": [
    "We can also include multiple values in our pivot tables "
   ]
  },
  {
   "cell_type": "code",
   "execution_count": 26,
   "metadata": {},
   "outputs": [
    {
     "name": "stderr",
     "output_type": "stream",
     "text": [
      "/tmp/ipykernel_1219/1132892114.py:1: FutureWarning: The provided callable <function max at 0x7d02de9784c0> is currently using DataFrameGroupBy.max. In a future version of pandas, the provided callable will be used directly. To keep current behavior pass the string \"max\" instead.\n",
      "  babynames_pivot = babynames.pivot_table(\n"
     ]
    },
    {
     "data": {
      "text/html": [
       "<div>\n",
       "<style scoped>\n",
       "    .dataframe tbody tr th:only-of-type {\n",
       "        vertical-align: middle;\n",
       "    }\n",
       "\n",
       "    .dataframe tbody tr th {\n",
       "        vertical-align: top;\n",
       "    }\n",
       "\n",
       "    .dataframe thead tr th {\n",
       "        text-align: left;\n",
       "    }\n",
       "\n",
       "    .dataframe thead tr:last-of-type th {\n",
       "        text-align: right;\n",
       "    }\n",
       "</style>\n",
       "<table border=\"1\" class=\"dataframe\">\n",
       "  <thead>\n",
       "    <tr>\n",
       "      <th></th>\n",
       "      <th colspan=\"2\" halign=\"left\">Count</th>\n",
       "      <th colspan=\"2\" halign=\"left\">Name</th>\n",
       "    </tr>\n",
       "    <tr>\n",
       "      <th>Sex</th>\n",
       "      <th>F</th>\n",
       "      <th>M</th>\n",
       "      <th>F</th>\n",
       "      <th>M</th>\n",
       "    </tr>\n",
       "    <tr>\n",
       "      <th>Year</th>\n",
       "      <th></th>\n",
       "      <th></th>\n",
       "      <th></th>\n",
       "      <th></th>\n",
       "    </tr>\n",
       "  </thead>\n",
       "  <tbody>\n",
       "    <tr>\n",
       "      <th>1910</th>\n",
       "      <td>295</td>\n",
       "      <td>237</td>\n",
       "      <td>Yvonne</td>\n",
       "      <td>William</td>\n",
       "    </tr>\n",
       "    <tr>\n",
       "      <th>1911</th>\n",
       "      <td>390</td>\n",
       "      <td>214</td>\n",
       "      <td>Zelma</td>\n",
       "      <td>Willis</td>\n",
       "    </tr>\n",
       "    <tr>\n",
       "      <th>1912</th>\n",
       "      <td>534</td>\n",
       "      <td>501</td>\n",
       "      <td>Yvonne</td>\n",
       "      <td>Woodrow</td>\n",
       "    </tr>\n",
       "    <tr>\n",
       "      <th>1913</th>\n",
       "      <td>584</td>\n",
       "      <td>614</td>\n",
       "      <td>Zelma</td>\n",
       "      <td>Yoshio</td>\n",
       "    </tr>\n",
       "    <tr>\n",
       "      <th>1914</th>\n",
       "      <td>773</td>\n",
       "      <td>769</td>\n",
       "      <td>Zelma</td>\n",
       "      <td>Yoshio</td>\n",
       "    </tr>\n",
       "    <tr>\n",
       "      <th>1915</th>\n",
       "      <td>998</td>\n",
       "      <td>1033</td>\n",
       "      <td>Zita</td>\n",
       "      <td>Yukio</td>\n",
       "    </tr>\n",
       "  </tbody>\n",
       "</table>\n",
       "</div>"
      ],
      "text/plain": [
       "     Count          Name         \n",
       "Sex      F     M       F        M\n",
       "Year                             \n",
       "1910   295   237  Yvonne  William\n",
       "1911   390   214   Zelma   Willis\n",
       "1912   534   501  Yvonne  Woodrow\n",
       "1913   584   614   Zelma   Yoshio\n",
       "1914   773   769   Zelma   Yoshio\n",
       "1915   998  1033    Zita    Yukio"
      ]
     },
     "execution_count": 26,
     "metadata": {},
     "output_type": "execute_result"
    }
   ],
   "source": [
    "babynames_pivot = babynames.pivot_table(\n",
    "    index = \"Year\",     # rows (turned into index)\n",
    "    columns = \"Sex\",    # column values\n",
    "    values = [\"Count\", \"Name\"],\n",
    "    aggfunc = np.max,   # group operation\n",
    ")\n",
    "babynames_pivot.head(6)"
   ]
  },
  {
   "cell_type": "markdown",
   "metadata": {
    "deletable": false,
    "editable": false
   },
   "source": [
    "<br>\n",
    "\n",
    "---\n",
    "\n",
    "### Question 4\n",
    "\n",
    "Using `presidential_candidates_and_name_popularity`, create a table, `party_result_popular_vote_pivot`, whose index is the `Party` and whose columns are their `Result`. Each cell should contain the total number of popular votes received. `pandas`' `pivot_table` documentation is [here](https://pandas.pydata.org/docs/reference/api/pandas.pivot_table.html).\n",
    "\n",
    "You may notice that there are `NaN`s in your table from missing data. Replace the `NaN` values with 0. You may find `.pivot_table`'s `fill_value=` argument helpful. Or, you can use `pd.DataFrame.fillna` [(documentation here)](https://pandas.pydata.org/docs/reference/api/pandas.DataFrame.fillna.html)."
   ]
  },
  {
   "cell_type": "code",
   "execution_count": 27,
   "metadata": {},
   "outputs": [
    {
     "data": {
      "text/html": [
       "<div>\n",
       "<style scoped>\n",
       "    .dataframe tbody tr th:only-of-type {\n",
       "        vertical-align: middle;\n",
       "    }\n",
       "\n",
       "    .dataframe tbody tr th {\n",
       "        vertical-align: top;\n",
       "    }\n",
       "\n",
       "    .dataframe thead th {\n",
       "        text-align: right;\n",
       "    }\n",
       "</style>\n",
       "<table border=\"1\" class=\"dataframe\">\n",
       "  <thead>\n",
       "    <tr style=\"text-align: right;\">\n",
       "      <th></th>\n",
       "      <th>Year</th>\n",
       "      <th>Candidate</th>\n",
       "      <th>Party</th>\n",
       "      <th>Popular vote</th>\n",
       "      <th>Result</th>\n",
       "      <th>%</th>\n",
       "      <th>First Name</th>\n",
       "      <th>Name</th>\n",
       "      <th>Count</th>\n",
       "    </tr>\n",
       "  </thead>\n",
       "  <tbody>\n",
       "    <tr>\n",
       "      <th>0</th>\n",
       "      <td>1824</td>\n",
       "      <td>Andrew Jackson</td>\n",
       "      <td>Democratic-Republican</td>\n",
       "      <td>151271</td>\n",
       "      <td>loss</td>\n",
       "      <td>57.210122</td>\n",
       "      <td>Andrew</td>\n",
       "      <td>Andrew</td>\n",
       "      <td>741</td>\n",
       "    </tr>\n",
       "    <tr>\n",
       "      <th>1</th>\n",
       "      <td>1824</td>\n",
       "      <td>John Quincy Adams</td>\n",
       "      <td>Democratic-Republican</td>\n",
       "      <td>113142</td>\n",
       "      <td>win</td>\n",
       "      <td>42.789878</td>\n",
       "      <td>John</td>\n",
       "      <td>John</td>\n",
       "      <td>490</td>\n",
       "    </tr>\n",
       "    <tr>\n",
       "      <th>2</th>\n",
       "      <td>1828</td>\n",
       "      <td>Andrew Jackson</td>\n",
       "      <td>Democratic</td>\n",
       "      <td>642806</td>\n",
       "      <td>win</td>\n",
       "      <td>56.203927</td>\n",
       "      <td>Andrew</td>\n",
       "      <td>Andrew</td>\n",
       "      <td>741</td>\n",
       "    </tr>\n",
       "    <tr>\n",
       "      <th>3</th>\n",
       "      <td>1828</td>\n",
       "      <td>John Quincy Adams</td>\n",
       "      <td>National Republican</td>\n",
       "      <td>500897</td>\n",
       "      <td>loss</td>\n",
       "      <td>43.796073</td>\n",
       "      <td>John</td>\n",
       "      <td>John</td>\n",
       "      <td>490</td>\n",
       "    </tr>\n",
       "    <tr>\n",
       "      <th>4</th>\n",
       "      <td>1832</td>\n",
       "      <td>Andrew Jackson</td>\n",
       "      <td>Democratic</td>\n",
       "      <td>702735</td>\n",
       "      <td>win</td>\n",
       "      <td>54.574789</td>\n",
       "      <td>Andrew</td>\n",
       "      <td>Andrew</td>\n",
       "      <td>741</td>\n",
       "    </tr>\n",
       "  </tbody>\n",
       "</table>\n",
       "</div>"
      ],
      "text/plain": [
       "   Year          Candidate                  Party  Popular vote Result  \\\n",
       "0  1824     Andrew Jackson  Democratic-Republican        151271   loss   \n",
       "1  1824  John Quincy Adams  Democratic-Republican        113142    win   \n",
       "2  1828     Andrew Jackson             Democratic        642806    win   \n",
       "3  1828  John Quincy Adams    National Republican        500897   loss   \n",
       "4  1832     Andrew Jackson             Democratic        702735    win   \n",
       "\n",
       "           % First Name    Name  Count  \n",
       "0  57.210122     Andrew  Andrew    741  \n",
       "1  42.789878       John    John    490  \n",
       "2  56.203927     Andrew  Andrew    741  \n",
       "3  43.796073       John    John    490  \n",
       "4  54.574789     Andrew  Andrew    741  "
      ]
     },
     "execution_count": 27,
     "metadata": {},
     "output_type": "execute_result"
    }
   ],
   "source": [
    "presidential_candidates_and_name_popularity.head(5)"
   ]
  },
  {
   "cell_type": "code",
   "execution_count": null,
   "metadata": {
    "scrolled": true,
    "tags": []
   },
   "outputs": [
    {
     "name": "stderr",
     "output_type": "stream",
     "text": [
      "/tmp/ipykernel_1219/2553339539.py:1: FutureWarning: The provided callable <function sum at 0x7d02de94fe20> is currently using DataFrameGroupBy.sum. In a future version of pandas, the provided callable will be used directly. To keep current behavior pass the string \"sum\" instead.\n",
      "  party_result_popular_vote_pivot = presidential_candidates_and_name_popularity.pivot_table(\n"
     ]
    },
    {
     "data": {
      "text/html": [
       "<div>\n",
       "<style scoped>\n",
       "    .dataframe tbody tr th:only-of-type {\n",
       "        vertical-align: middle;\n",
       "    }\n",
       "\n",
       "    .dataframe tbody tr th {\n",
       "        vertical-align: top;\n",
       "    }\n",
       "\n",
       "    .dataframe thead tr th {\n",
       "        text-align: left;\n",
       "    }\n",
       "\n",
       "    .dataframe thead tr:last-of-type th {\n",
       "        text-align: right;\n",
       "    }\n",
       "</style>\n",
       "<table border=\"1\" class=\"dataframe\">\n",
       "  <thead>\n",
       "    <tr>\n",
       "      <th></th>\n",
       "      <th colspan=\"2\" halign=\"left\">Popular vote</th>\n",
       "    </tr>\n",
       "    <tr>\n",
       "      <th>Result</th>\n",
       "      <th>loss</th>\n",
       "      <th>win</th>\n",
       "    </tr>\n",
       "    <tr>\n",
       "      <th>Party</th>\n",
       "      <th></th>\n",
       "      <th></th>\n",
       "    </tr>\n",
       "  </thead>\n",
       "  <tbody>\n",
       "    <tr>\n",
       "      <th>American</th>\n",
       "      <td>158271</td>\n",
       "      <td>0</td>\n",
       "    </tr>\n",
       "    <tr>\n",
       "      <th>American Independent</th>\n",
       "      <td>11172260</td>\n",
       "      <td>0</td>\n",
       "    </tr>\n",
       "    <tr>\n",
       "      <th>Anti-Masonic</th>\n",
       "      <td>100715</td>\n",
       "      <td>0</td>\n",
       "    </tr>\n",
       "    <tr>\n",
       "      <th>Anti-Monopoly</th>\n",
       "      <td>134294</td>\n",
       "      <td>0</td>\n",
       "    </tr>\n",
       "    <tr>\n",
       "      <th>Citizens</th>\n",
       "      <td>233052</td>\n",
       "      <td>0</td>\n",
       "    </tr>\n",
       "    <tr>\n",
       "      <th>Communist</th>\n",
       "      <td>103307</td>\n",
       "      <td>0</td>\n",
       "    </tr>\n",
       "    <tr>\n",
       "      <th>Constitution</th>\n",
       "      <td>346721</td>\n",
       "      <td>0</td>\n",
       "    </tr>\n",
       "    <tr>\n",
       "      <th>Constitutional Union</th>\n",
       "      <td>590901</td>\n",
       "      <td>0</td>\n",
       "    </tr>\n",
       "    <tr>\n",
       "      <th>Democratic</th>\n",
       "      <td>314190254</td>\n",
       "      <td>441751531</td>\n",
       "    </tr>\n",
       "    <tr>\n",
       "      <th>Democratic-Republican</th>\n",
       "      <td>151271</td>\n",
       "      <td>113142</td>\n",
       "    </tr>\n",
       "    <tr>\n",
       "      <th>Free Soil</th>\n",
       "      <td>446711</td>\n",
       "      <td>0</td>\n",
       "    </tr>\n",
       "    <tr>\n",
       "      <th>Green</th>\n",
       "      <td>4254943</td>\n",
       "      <td>0</td>\n",
       "    </tr>\n",
       "    <tr>\n",
       "      <th>Greenback</th>\n",
       "      <td>308649</td>\n",
       "      <td>0</td>\n",
       "    </tr>\n",
       "    <tr>\n",
       "      <th>Independent</th>\n",
       "      <td>28140589</td>\n",
       "      <td>0</td>\n",
       "    </tr>\n",
       "    <tr>\n",
       "      <th>Libertarian</th>\n",
       "      <td>7723416</td>\n",
       "      <td>0</td>\n",
       "    </tr>\n",
       "    <tr>\n",
       "      <th>National Democratic</th>\n",
       "      <td>134645</td>\n",
       "      <td>0</td>\n",
       "    </tr>\n",
       "    <tr>\n",
       "      <th>National Republican</th>\n",
       "      <td>985102</td>\n",
       "      <td>0</td>\n",
       "    </tr>\n",
       "    <tr>\n",
       "      <th>National Union</th>\n",
       "      <td>0</td>\n",
       "      <td>2211317</td>\n",
       "    </tr>\n",
       "    <tr>\n",
       "      <th>Natural Law</th>\n",
       "      <td>113670</td>\n",
       "      <td>0</td>\n",
       "    </tr>\n",
       "    <tr>\n",
       "      <th>New Alliance</th>\n",
       "      <td>217221</td>\n",
       "      <td>0</td>\n",
       "    </tr>\n",
       "    <tr>\n",
       "      <th>Northern Democratic</th>\n",
       "      <td>1380202</td>\n",
       "      <td>0</td>\n",
       "    </tr>\n",
       "    <tr>\n",
       "      <th>Populist</th>\n",
       "      <td>1261250</td>\n",
       "      <td>0</td>\n",
       "    </tr>\n",
       "    <tr>\n",
       "      <th>Progressive</th>\n",
       "      <td>10252501</td>\n",
       "      <td>0</td>\n",
       "    </tr>\n",
       "    <tr>\n",
       "      <th>Prohibition</th>\n",
       "      <td>2141790</td>\n",
       "      <td>0</td>\n",
       "    </tr>\n",
       "    <tr>\n",
       "      <th>Reform</th>\n",
       "      <td>8085294</td>\n",
       "      <td>0</td>\n",
       "    </tr>\n",
       "    <tr>\n",
       "      <th>Republican</th>\n",
       "      <td>341121121</td>\n",
       "      <td>481561200</td>\n",
       "    </tr>\n",
       "    <tr>\n",
       "      <th>Socialist</th>\n",
       "      <td>4825871</td>\n",
       "      <td>0</td>\n",
       "    </tr>\n",
       "    <tr>\n",
       "      <th>Southern Democratic</th>\n",
       "      <td>848019</td>\n",
       "      <td>0</td>\n",
       "    </tr>\n",
       "    <tr>\n",
       "      <th>Taxpayers</th>\n",
       "      <td>184656</td>\n",
       "      <td>0</td>\n",
       "    </tr>\n",
       "    <tr>\n",
       "      <th>Union</th>\n",
       "      <td>892378</td>\n",
       "      <td>0</td>\n",
       "    </tr>\n",
       "    <tr>\n",
       "      <th>Whig</th>\n",
       "      <td>1996929</td>\n",
       "      <td>2635818</td>\n",
       "    </tr>\n",
       "  </tbody>\n",
       "</table>\n",
       "</div>"
      ],
      "text/plain": [
       "                      Popular vote           \n",
       "Result                        loss        win\n",
       "Party                                        \n",
       "American                    158271          0\n",
       "American Independent      11172260          0\n",
       "Anti-Masonic                100715          0\n",
       "Anti-Monopoly               134294          0\n",
       "Citizens                    233052          0\n",
       "Communist                   103307          0\n",
       "Constitution                346721          0\n",
       "Constitutional Union        590901          0\n",
       "Democratic               314190254  441751531\n",
       "Democratic-Republican       151271     113142\n",
       "Free Soil                   446711          0\n",
       "Green                      4254943          0\n",
       "Greenback                   308649          0\n",
       "Independent               28140589          0\n",
       "Libertarian                7723416          0\n",
       "National Democratic         134645          0\n",
       "National Republican         985102          0\n",
       "National Union                   0    2211317\n",
       "Natural Law                 113670          0\n",
       "New Alliance                217221          0\n",
       "Northern Democratic        1380202          0\n",
       "Populist                   1261250          0\n",
       "Progressive               10252501          0\n",
       "Prohibition                2141790          0\n",
       "Reform                     8085294          0\n",
       "Republican               341121121  481561200\n",
       "Socialist                  4825871          0\n",
       "Southern Democratic         848019          0\n",
       "Taxpayers                   184656          0\n",
       "Union                       892378          0\n",
       "Whig                       1996929    2635818"
      ]
     },
     "execution_count": 37,
     "metadata": {},
     "output_type": "execute_result"
    }
   ],
   "source": [
    "party_result_popular_vote_pivot = presidential_candidates_and_name_popularity.pivot_table(\n",
    "    index = \"Party\",\n",
    "    columns = \"Result\",\n",
    "    values = [\"Popular vote\"],\n",
    "    aggfunc = np.sum,\n",
    ").fillna(0).astype(int) # astype()只影响数值列\n",
    "# party_result_popular_vote_pivot = presidential_candidates_and_name_popularity.pivot_table(\n",
    "#     index = \"Party\",\n",
    "#     columns = \"Result\",\n",
    "#     values = [\"Popular vote\"],\n",
    "#     aggfunc = np.sum,\n",
    "#     fill_value = 0\n",
    "# ) \n",
    "party_result_popular_vote_pivot"
   ]
  },
  {
   "cell_type": "code",
   "execution_count": 38,
   "metadata": {
    "deletable": false,
    "editable": false
   },
   "outputs": [
    {
     "data": {
      "text/html": [
       "<p><strong><pre style='display: inline;'>q4</pre></strong> passed! ✨</p>"
      ],
      "text/plain": [
       "q4 results: All test cases passed!"
      ]
     },
     "execution_count": 38,
     "metadata": {},
     "output_type": "execute_result"
    }
   ],
   "source": [
    "grader.check(\"q4\")"
   ]
  },
  {
   "cell_type": "markdown",
   "metadata": {},
   "source": [
    "Just for fun: Which historical presidential candidates have names that were the least and most popular in 2022? Note: Here you'll observe a common problem in data science -- one of the least popular names is actually due to the fact that one recent president was so commonly known by his nickname that he appears named as such in the database from which you pulled election results."
   ]
  },
  {
   "cell_type": "code",
   "execution_count": null,
   "metadata": {},
   "outputs": [],
   "source": [
    "# your optional code here\n",
    "..."
   ]
  },
  {
   "cell_type": "markdown",
   "metadata": {},
   "source": [
    "<hr style=\"border: 5px solid #003262;\" />\n",
    "<hr style=\"border: 1px solid #fdb515;\" />\n",
    "\n",
    "## Congratulations! You have finished Lab 02B!"
   ]
  },
  {
   "cell_type": "markdown",
   "metadata": {},
   "source": [
    "### Course Content Feedback\n",
    "\n",
    "If you have any feedback about this assignment or about any of our other weekly, weekly assignments, lectures, or discussions, please fill out the [Course Content Feedback Form](https://docs.google.com/forms/d/e/1FAIpQLSe0fBEJwt6aEfZxU3fh3llNk8rSWHj6Umq0km3wPqmFu0MlGA/viewform). Your input is valuable in helping us improve the quality and relevance of our content to better meet your needs and expectations!"
   ]
  },
  {
   "cell_type": "markdown",
   "metadata": {},
   "source": [
    "### Submission Instructions\n",
    "\n",
    "Below, you will see a cell. Running this cell will automatically generate a zip file with your autograded answers. Submit this file to the Lab 02B assignment on Gradescope. If you run into any issues when running this cell, feel free to check this [section](https://ds100.org/debugging-guide/autograder_gradescope/autograder_gradescope.html#why-does-grader.exportrun_teststrue-fail-if-all-previous-tests-passed) in the Data 100 Debugging Guide."
   ]
  },
  {
   "cell_type": "markdown",
   "metadata": {
    "deletable": false,
    "editable": false
   },
   "source": [
    "## Submission\n",
    "\n",
    "Make sure you have run all cells in your notebook in order before running the cell below, so that all images/graphs appear in the output. The cell below will generate a zip file for you to submit. **Please save before exporting!**"
   ]
  },
  {
   "cell_type": "code",
   "execution_count": null,
   "metadata": {
    "deletable": false,
    "editable": false
   },
   "outputs": [],
   "source": [
    "# Save your notebook first, then run this cell to export your submission.\n",
    "grader.export(pdf=False, run_tests=True)"
   ]
  },
  {
   "cell_type": "markdown",
   "metadata": {},
   "source": [
    " "
   ]
  }
 ],
 "metadata": {
  "anaconda-cloud": {},
  "celltoolbar": "Create Assignment",
  "kernelspec": {
   "display_name": "huggingface",
   "language": "python",
   "name": "python3"
  },
  "language_info": {
   "codemirror_mode": {
    "name": "ipython",
    "version": 3
   },
   "file_extension": ".py",
   "mimetype": "text/x-python",
   "name": "python",
   "nbconvert_exporter": "python",
   "pygments_lexer": "ipython3",
   "version": "3.10.16"
  },
  "otter": {
   "OK_FORMAT": true,
   "tests": {
    "q1a": {
     "name": "q1a",
     "points": null,
     "suites": [
      {
       "cases": [
        {
         "code": ">>> len(best_result_percentage_only)\n15",
         "hidden": false,
         "locked": false
        },
        {
         "code": ">>> best_result_percentage_only['Independent'].sum()\n18.95629754",
         "hidden": false,
         "locked": false
        },
        {
         "code": ">>> best_result_percentage_only.iloc[0]\n61.34470329",
         "hidden": false,
         "locked": false
        }
       ],
       "scored": true,
       "setup": "",
       "teardown": "",
       "type": "doctest"
      }
     ]
    },
    "q1b": {
     "name": "q1b",
     "points": null,
     "suites": [
      {
       "cases": [
        {
         "code": ">>> best_result.shape\n(15, 5)",
         "hidden": false,
         "locked": false
        },
        {
         "code": ">>> best_result['Popular vote'].sum()\n135020916",
         "hidden": false,
         "locked": false
        },
        {
         "code": ">>> best_result.loc['Democratic', 'Candidate']\n'Lyndon Johnson'",
         "hidden": false,
         "locked": false
        }
       ],
       "scored": true,
       "setup": "",
       "teardown": "",
       "type": "doctest"
      }
     ]
    },
    "q1c": {
     "name": "q1c",
     "points": null,
     "suites": [
      {
       "cases": [
        {
         "code": ">>> major_party_results_since_1988.shape\n(37, 6)",
         "hidden": false,
         "locked": false
        },
        {
         "code": ">>> major_party_results_since_1988['%'].min()\n0.098088334",
         "hidden": false,
         "locked": false
        },
        {
         "code": ">>> major_party_results_since_1988['Candidate'].iloc[0]\n'Andre Marrou'",
         "hidden": false,
         "locked": false
        }
       ],
       "scored": true,
       "setup": "",
       "teardown": "",
       "type": "doctest"
      }
     ]
    },
    "q2": {
     "name": "q2",
     "points": null,
     "suites": [
      {
       "cases": [
        {
         "code": ">>> elections_with_first_name.shape\n(182, 7)",
         "hidden": false,
         "locked": false
        },
        {
         "code": ">>> elections_with_first_name[elections_with_first_name['Candidate'] == 'Andrew Jackson'].iloc[0]['First Name']\n'Andrew'",
         "hidden": false,
         "locked": false
        },
        {
         "code": ">>> elections_with_first_name[elections_with_first_name['Candidate'] == 'Jo Jorgensen'].iloc[0]['First Name']\n'Jo'",
         "hidden": false,
         "locked": false
        }
       ],
       "scored": true,
       "setup": "",
       "teardown": "",
       "type": "doctest"
      }
     ]
    },
    "q3": {
     "name": "q3",
     "points": null,
     "suites": [
      {
       "cases": [
        {
         "code": ">>> presidential_candidates_and_name_popularity.shape\n(144, 9)",
         "hidden": false,
         "locked": false
        },
        {
         "code": ">>> presidential_candidates_and_name_popularity[presidential_candidates_and_name_popularity['Candidate'] == 'Andrew Jackson'].iloc[0]['Name']\n'Andrew'",
         "hidden": false,
         "locked": false
        },
        {
         "code": ">>> presidential_candidates_and_name_popularity[presidential_candidates_and_name_popularity['Candidate'] == 'William Lemke'].iloc[0]['Count']\n831",
         "hidden": false,
         "locked": false
        }
       ],
       "scored": true,
       "setup": "",
       "teardown": "",
       "type": "doctest"
      }
     ]
    },
    "q4": {
     "name": "q4",
     "points": null,
     "suites": [
      {
       "cases": [
        {
         "code": ">>> party_result_popular_vote_pivot.index.name\n'Party'",
         "hidden": false,
         "locked": false
        },
        {
         "code": ">>> 'Result' in party_result_popular_vote_pivot.columns.names\nTrue",
         "hidden": false,
         "locked": false
        },
        {
         "code": ">>> party_result_popular_vote_pivot.isnull().sum().sum()\n0",
         "hidden": false,
         "locked": false
        },
        {
         "code": ">>> party_result_popular_vote_pivot.loc['American', 'Popular vote']['loss'] if isinstance(party_result_popular_vote_pivot.columns, pd.MultiIndex) else party_result_popular_vote_pivot.loc['American']['loss']\n158271",
         "hidden": false,
         "locked": false
        },
        {
         "code": ">>> party_result_popular_vote_pivot.loc['American', 'Popular vote']['win'] if isinstance(party_result_popular_vote_pivot.columns, pd.MultiIndex) else party_result_popular_vote_pivot.loc['American']['win']\n0",
         "hidden": false,
         "locked": false
        },
        {
         "code": ">>> party_result_popular_vote_pivot.loc['Democratic', 'Popular vote']['loss'] if isinstance(party_result_popular_vote_pivot.columns, pd.MultiIndex) else party_result_popular_vote_pivot.loc['Democratic']['loss']\n314190254",
         "hidden": false,
         "locked": false
        },
        {
         "code": ">>> party_result_popular_vote_pivot.loc['Democratic', 'Popular vote']['win'] if isinstance(party_result_popular_vote_pivot.columns, pd.MultiIndex) else party_result_popular_vote_pivot.loc['Democratic']['win']\n441751531",
         "hidden": false,
         "locked": false
        }
       ],
       "scored": true,
       "setup": "",
       "teardown": "",
       "type": "doctest"
      }
     ]
    }
   }
  }
 },
 "nbformat": 4,
 "nbformat_minor": 4
}
